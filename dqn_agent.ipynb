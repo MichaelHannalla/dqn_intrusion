{
 "cells": [
  {
   "cell_type": "markdown",
   "source": [
    "# Library Imports"
   ],
   "metadata": {}
  },
  {
   "cell_type": "code",
   "execution_count": 4,
   "source": [
    "import numpy as np              # Numpy numerical library\r\n",
    "import pandas as pd             # Pandas for dataframes manipulation\r\n",
    "import tensorflow as tf         # TensorFlow for neural networks and deep learning APIs"
   ],
   "outputs": [],
   "metadata": {}
  },
  {
   "cell_type": "markdown",
   "source": [
    "# Dataset Preparation"
   ],
   "metadata": {}
  },
  {
   "cell_type": "code",
   "execution_count": 5,
   "source": [
    "class DataLoader:\r\n",
    "    # Take in a csv file and extracts features and labels\r\n",
    "    def __init__(self, csv_filepath):                          \r\n",
    "        self.df_samples = pd.read_csv(csv_filepath)                 # Create a pandas dataframe\r\n",
    "        self.numpy_samples = self.df_samples.to_numpy()\r\n",
    "\r\n",
    "        self.states_features = self.numpy_samples[:, 1:self.numpy_samples.shape[1]-1]           # Take the feature values for states, also ignore first column for IDs  \r\n",
    "        self.feature_dim = self.states_features.shape[1]\r\n",
    "        self.action_labels = self.numpy_samples[:, -1]                                          # The action labels separated from the labels\r\n",
    "\r\n",
    "    def get_unique_rows(self):\r\n",
    "        self.unique_rows = np.unique(self.states_features, axis = 0)\r\n",
    "        return self.unique_rows\r\n",
    "\r\n",
    "    def get_dataframe(self):    \r\n",
    "        return self.df_samples\r\n",
    "\r\n",
    "    def get_numpy(self):\r\n",
    "        return self.numpy_samples\r\n",
    "    \r\n",
    "data = DataLoader(\"new_data.csv\")\r\n",
    "unique_rows = data.get_unique_rows()\r\n",
    "print(unique_rows.shape)\r\n",
    "print(len(unique_rows))"
   ],
   "outputs": [
    {
     "output_type": "stream",
     "name": "stdout",
     "text": [
      "(97019, 26)\n",
      "97019\n"
     ]
    }
   ],
   "metadata": {}
  },
  {
   "cell_type": "markdown",
   "source": [
    "# Model and Classes Definition"
   ],
   "metadata": {}
  },
  {
   "cell_type": "code",
   "execution_count": 15,
   "source": [
    "Q_VALUE_DIM = 1             # Value is a scalar for each datapoint\r\n",
    "LEARNING_RATE = 0.001       # Gradient-descent learning rate\r\n",
    "REPLAY_MEMORY_SIZE = 50     # Size for RL replay memory\r\n",
    "\r\n",
    "# Creating our main class for our DQN\r\n",
    "class DeepQNet:\r\n",
    "    \r\n",
    "    def __init__(self, dataset):\r\n",
    "        self.input_dim = dataset.feature_dim + 1                    # State feature dim + 1 (for ground truth actions)\r\n",
    "        \r\n",
    "        self.model = self.create_model()                            # Main model that gets trained every step \r\n",
    "        self.model.summary()                                        # Printing model details\r\n",
    "        self.target_model = self.create_model()                     # Target model we predict against each step\r\n",
    "        self.target_model.set_weights(self.model.get_weights())     # To make all the initial weights the same\r\n",
    "\r\n",
    "        # Logging or TensorBoard here\r\n",
    "        # # # # # # # # # # # # # # #\r\n",
    "\r\n",
    "        # Used to count when to update target network with main network's weights\r\n",
    "        self.target_update_counter = 0\r\n",
    "    \r\n",
    "    def create_model(self):\r\n",
    "        # Definition of the neural network architecture mentioned in the paper (3 relu feedforward layers)\r\n",
    "        model = tf.keras.Sequential()\r\n",
    "        model.add(tf.keras.layers.Input(self.input_dim))                        # Input dimension of the state-vector\r\n",
    "        model.add(tf.keras.layers.Dense(128, activation= \"relu\"))\r\n",
    "        model.add(tf.keras.layers.Dense(128, activation= \"relu\"))\r\n",
    "        model.add(tf.keras.layers.Dense(Q_VALUE_DIM, activation= \"relu\"))       # Output is value function\r\n",
    "        model.compile(loss=\"mse\", optimizer=tf.optimizers.Adam(lr= LEARNING_RATE), metrics=['accuracy'])\r\n",
    "        return model\r\n",
    "\r\n",
    "    def get_reward(self, a_predicted, a_label):\r\n",
    "        if a_predicted == a_label:\r\n",
    "            return 1\r\n",
    "        else: return 0\r\n",
    "\r\n",
    "    # Function to implement the epsilon-greedy policy selection\r\n",
    "    def greedy(self, epsilon, action_values):\r\n",
    "        p = np.random.uniform(low=0.0, high=1.0)\r\n",
    "        \r\n",
    "        if p < epsilon:             # Take the greedy action\r\n",
    "            return np.argmax(action_values)            \r\n",
    "        \r\n",
    "        else:                       # Take an exploration action\r\n",
    "            return np.random.randint(low=0, high=len(action_values))\r\n",
    "              \r\n",
    "\r\n",
    "dq_net = DeepQNet(dataset= data)"
   ],
   "outputs": [
    {
     "output_type": "stream",
     "name": "stdout",
     "text": [
      "Model: \"sequential_14\"\n",
      "_________________________________________________________________\n",
      "Layer (type)                 Output Shape              Param #   \n",
      "=================================================================\n",
      "dense_24 (Dense)             (None, 128)               3584      \n",
      "_________________________________________________________________\n",
      "dense_25 (Dense)             (None, 128)               16512     \n",
      "_________________________________________________________________\n",
      "dense_26 (Dense)             (None, 1)                 129       \n",
      "=================================================================\n",
      "Total params: 20,225\n",
      "Trainable params: 20,225\n",
      "Non-trainable params: 0\n",
      "_________________________________________________________________\n"
     ]
    }
   ],
   "metadata": {}
  },
  {
   "cell_type": "code",
   "execution_count": 16,
   "source": [
    "for i in range(1, -1):\r\n",
    "    print(i)"
   ],
   "outputs": [],
   "metadata": {}
  },
  {
   "cell_type": "code",
   "execution_count": null,
   "source": [],
   "outputs": [],
   "metadata": {}
  }
 ],
 "metadata": {
  "kernelspec": {
   "name": "python3",
   "display_name": "Python 3.6.8 64-bit"
  },
  "language_info": {
   "name": "python",
   "version": "3.6.8",
   "mimetype": "text/x-python",
   "codemirror_mode": {
    "name": "ipython",
    "version": 3
   },
   "pygments_lexer": "ipython3",
   "nbconvert_exporter": "python",
   "file_extension": ".py"
  },
  "interpreter": {
   "hash": "eded81c4a7c6917c9cbd3629f4297c0af6b02e3629b6d4cad1fc0bc42eaeccd9"
  }
 },
 "nbformat": 4,
 "nbformat_minor": 5
}